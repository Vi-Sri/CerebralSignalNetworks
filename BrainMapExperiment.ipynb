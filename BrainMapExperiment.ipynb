{
 "cells": [
  {
   "cell_type": "code",
   "execution_count": 1,
   "metadata": {},
   "outputs": [],
   "source": [
    "from utils.PerilsEEGDataset import EEGDataset"
   ]
  },
  {
   "cell_type": "code",
   "execution_count": 2,
   "metadata": {},
   "outputs": [],
   "source": [
    "search_gallary = \"train\"\n",
    "query_gallary = \"test\"\n",
    "SUBJECT = 1\n",
    "EEG_DATASET_PATH = \"./data/eeg/theperils/spampinato-1-3RAW_with_mean_std.pth\"\n",
    "dataset_split = \"./data/eeg/block_splits_by_image_all.pth\"\n",
    "train_dataset = EEGDataset(subset=search_gallary,eeg_signals_path=EEG_DATASET_PATH,\n",
    "                           eeg_splits_path=None, subject=SUBJECT,\n",
    "                           exclude_subjects=[],\n",
    "                           preprocessin_fn=None)"
   ]
  },
  {
   "cell_type": "code",
   "execution_count": 3,
   "metadata": {},
   "outputs": [
    {
     "name": "stdout",
     "output_type": "stream",
     "text": [
      "torch.Size([460, 96])\n"
     ]
    }
   ],
   "source": [
    "for data in train_dataset:\n",
    "    eeg, label,image,i, image_features = data\n",
    "    print(eeg.shape)\n",
    "    break"
   ]
  },
  {
   "cell_type": "code",
   "execution_count": 4,
   "metadata": {},
   "outputs": [],
   "source": [
    "from utils.Utilities import Utilities\n",
    "Utilities_handler = Utilities()"
   ]
  },
  {
   "cell_type": "code",
   "execution_count": 5,
   "metadata": {},
   "outputs": [],
   "source": [
    "label_wise_data_test, eeg_features_test, eeg_labels_test, img_feat_test = Utilities_handler.PrepapreDataforVis(train_dataset)"
   ]
  },
  {
   "cell_type": "code",
   "execution_count": null,
   "metadata": {},
   "outputs": [],
   "source": [
    "onesample = label_wise_data_test[1][\"eeg\"][1]\n",
    "onesample.shape"
   ]
  },
  {
   "cell_type": "code",
   "execution_count": null,
   "metadata": {},
   "outputs": [],
   "source": [
    "eeg_features_test.shape"
   ]
  },
  {
   "cell_type": "code",
   "execution_count": 6,
   "metadata": {},
   "outputs": [],
   "source": [
    "eeg_keep_channel = eeg_features_test.reshape(-1,96)\n",
    "eeg_keep_time = eeg_features_test.reshape(-1,460)"
   ]
  },
  {
   "cell_type": "code",
   "execution_count": 7,
   "metadata": {},
   "outputs": [],
   "source": [
    "# from sklearn.datasets import load_digits\n",
    "from sklearn.decomposition import PCA\n",
    "from sklearn.cluster import KMeans\n",
    "import numpy as np"
   ]
  },
  {
   "cell_type": "code",
   "execution_count": 40,
   "metadata": {},
   "outputs": [],
   "source": [
    "pca_c = PCA(n_components=5)\n",
    "pca_t = PCA(n_components=5)\n",
    "\n",
    "kmeans_c = KMeans(n_clusters=2)\n",
    "kmeans_t = KMeans(n_clusters=2)\n",
    "\n",
    "\n",
    "# df = pca.fit_transform(onesample)\n",
    "pca_fitted_c = pca_c.fit_transform(eeg_keep_channel)\n",
    "pca_fitted_t = pca_t.fit_transform(eeg_keep_time)\n",
    "\n",
    "\n",
    "labels_c = kmeans_c.fit_predict(pca_fitted_c)\n",
    "labels_t = kmeans_t.fit_predict(pca_fitted_t)"
   ]
  },
  {
   "cell_type": "code",
   "execution_count": 9,
   "metadata": {},
   "outputs": [],
   "source": [
    "%matplotlib inline \n",
    "%matplotlib qt"
   ]
  },
  {
   "cell_type": "code",
   "execution_count": 45,
   "metadata": {},
   "outputs": [],
   "source": [
    "import matplotlib.pyplot as plt\n",
    "\n",
    "# Filter data points belonging to cluster label 0\n",
    "filtered_label0 = pca_fitted_c[labels_c == 0]\n",
    "filtered_label1 = pca_fitted_c[labels_c == 1]\n",
    "# filtered_label2 = df[labels == 2]/\n",
    "# second_labels_0 = second_df[second_labels == 0]\n",
    "# second_labels_1 = second_df[second_labels == 1]\n",
    "\n",
    "# Plot the results\n",
    "plt.scatter(filtered_label0[:, 0], filtered_label0[:, 1],c=\"red\")\n",
    "plt.scatter(filtered_label1[:, 0], filtered_label1[:, 1],c=\"blue\")\n",
    "\n",
    "# plt.scatter(second_labels_0[:, 0], second_labels_0[:, 1],c=\"red\")\n",
    "# plt.scatter(second_labels_1[:, 0], second_labels_1[:, 1],c=\"blue\")\n",
    "\n",
    "# plt.scatter(filtered_label2[:, 0], filtered_label2[:, 1],c=\"green\")\n",
    "plt.title(\"K-Means Clusters (Label 0)\")\n",
    "plt.xlabel(\"PCA Component 1\")\n",
    "plt.ylabel(\"PCA Component 2\")\n",
    "plt.show()"
   ]
  },
  {
   "cell_type": "code",
   "execution_count": 44,
   "metadata": {},
   "outputs": [],
   "source": [
    "import matplotlib.pyplot as plt\n",
    "\n",
    "# Filter data points belonging to cluster label 0\n",
    "filtered_label0 = pca_fitted_t[labels_t == 0]\n",
    "filtered_label1 = pca_fitted_t[labels_t == 1]\n",
    "# filtered_label2 = df[labels == 2]/\n",
    "# second_labels_0 = second_df[second_labels == 0]\n",
    "# second_labels_1 = second_df[second_labels == 1]\n",
    "\n",
    "# Plot the results\n",
    "plt.scatter(filtered_label0[:, 0], filtered_label0[:, 1],c=\"red\")\n",
    "plt.scatter(filtered_label1[:, 0], filtered_label1[:, 1],c=\"blue\")\n",
    "\n",
    "# plt.scatter(second_labels_0[:, 0], second_labels_0[:, 1],c=\"red\")\n",
    "# plt.scatter(second_labels_1[:, 0], second_labels_1[:, 1],c=\"blue\")\n",
    "\n",
    "# plt.scatter(filtered_label2[:, 0], filtered_label2[:, 1],c=\"green\")\n",
    "plt.title(\"K-Means Clusters (Label 0)\")\n",
    "plt.xlabel(\"PCA Component 1\")\n",
    "plt.ylabel(\"PCA Component 2\")\n",
    "plt.show()"
   ]
  },
  {
   "cell_type": "code",
   "execution_count": 20,
   "metadata": {},
   "outputs": [
    {
     "data": {
      "text/plain": [
       "(460, 96)"
      ]
     },
     "execution_count": 20,
     "metadata": {},
     "output_type": "execute_result"
    }
   ],
   "source": [
    "onesample = label_wise_data_test[1][\"eeg\"][9]\n",
    "onesample.shape"
   ]
  },
  {
   "cell_type": "code",
   "execution_count": 46,
   "metadata": {},
   "outputs": [],
   "source": [
    "for index in range(10):\n",
    "    onesample = label_wise_data_test[1][\"eeg\"][index]\n",
    "    # pca_fitted_c = pca_c.transform(onesample)\n",
    "    pca_fitted_t = pca_t.transform(onesample.T)\n",
    "    labels_t = kmeans_t.predict(pca_fitted_t)\n",
    "    # labels_c = kmeans_c.predict(pca_fitted_c)\n",
    "    filtered_label0 = pca_fitted_t[labels_t == 0]\n",
    "    filtered_label1 = pca_fitted_t[labels_t == 1]\n",
    "    # second_labels_0 = pca_fitted_c[labels_c == 0]\n",
    "    # second_labels_1 = pca_fitted_c[labels_c == 1]\n",
    "    plt.scatter(filtered_label0[:, 0], filtered_label0[:, 1],c=\"red\")\n",
    "    plt.scatter(filtered_label1[:, 0], filtered_label1[:, 1],c=\"blue\")\n",
    "    # plt.scatter(second_labels_0[:, 0], second_labels_0[:, 1],c=\"red\")\n",
    "    # plt.scatter(second_labels_1[:, 0], second_labels_1[:, 1],c=\"blue\")\n",
    "\n",
    "for index in range(10):\n",
    "    onesample = label_wise_data_test[2][\"eeg\"][index]\n",
    "    # pca_fitted_c = pca_c.transform(onesample)\n",
    "    pca_fitted_t = pca_t.transform(onesample.T)\n",
    "    labels_t = kmeans_t.predict(pca_fitted_t)\n",
    "    # labels_c = kmeans_c.predict(pca_fitted_c)\n",
    "    filtered_label0 = pca_fitted_t[labels_t == 0]\n",
    "    filtered_label1 = pca_fitted_t[labels_t == 1]\n",
    "    # second_labels_0 = pca_fitted_c[labels_c == 0]\n",
    "    # second_labels_1 = pca_fitted_c[labels_c == 1]\n",
    "    plt.scatter(filtered_label0[:, 0], filtered_label0[:, 1],c=\"cyan\")\n",
    "    plt.scatter(filtered_label1[:, 0], filtered_label1[:, 1],c=\"green\")\n",
    "    # plt.scatter(second_labels_0[:, 0], second_labels_0[:, 1],c=\"red\")\n",
    "    # plt.scatter(second_labels_1[:, 0], second_labels_1[:, 1],c=\"blue\")\n",
    "\n",
    "for index in range(10):\n",
    "    onesample = label_wise_data_test[3][\"eeg\"][index]\n",
    "    # pca_fitted_c = pca_c.transform(onesample)\n",
    "    pca_fitted_t = pca_t.transform(onesample.T)\n",
    "    labels_t = kmeans_t.predict(pca_fitted_t)\n",
    "    # labels_c = kmeans_c.predict(pca_fitted_c)\n",
    "    filtered_label0 = pca_fitted_t[labels_t == 0]\n",
    "    filtered_label1 = pca_fitted_t[labels_t == 1]\n",
    "    # second_labels_0 = pca_fitted_c[labels_c == 0]\n",
    "    # second_labels_1 = pca_fitted_c[labels_c == 1]\n",
    "    plt.scatter(filtered_label0[:, 0], filtered_label0[:, 1],c=\"magenta\")\n",
    "    plt.scatter(filtered_label1[:, 0], filtered_label1[:, 1],c=\"yellow\")\n",
    "    # plt.scatter(second_labels_0[:, 0], second_labels_0[:, 1],c=\"red\")\n",
    "    # plt.scatter(second_labels_1[:, 0], second_labels_1[:, 1],c=\"blue\")\n",
    "\n",
    "\n",
    "plt.title(\"K-Means Clusters (Label 0)\")\n",
    "plt.xlabel(\"PCA Component 1\")\n",
    "plt.ylabel(\"PCA Component 2\")\n",
    "plt.show()"
   ]
  }
 ],
 "metadata": {
  "kernelspec": {
   "display_name": "pytorch",
   "language": "python",
   "name": "python3"
  },
  "language_info": {
   "codemirror_mode": {
    "name": "ipython",
    "version": 3
   },
   "file_extension": ".py",
   "mimetype": "text/x-python",
   "name": "python",
   "nbconvert_exporter": "python",
   "pygments_lexer": "ipython3",
   "version": "3.7.15"
  }
 },
 "nbformat": 4,
 "nbformat_minor": 2
}
