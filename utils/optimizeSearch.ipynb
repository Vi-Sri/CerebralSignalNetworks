{
 "cells": [
  {
   "cell_type": "code",
   "execution_count": 18,
   "metadata": {},
   "outputs": [],
   "source": [
    "import numpy as np\n",
    "import random\n",
    "import cv2\n",
    "\n",
    "im = np.zeros((224,224,3), np.uint8) \n",
    "noise = cv2.randu(im,(0),(255))   \n",
    "image = cv2.imwrite('noise_image1.png',noise) # Only for grayscale image"
   ]
  },
  {
   "cell_type": "code",
   "execution_count": null,
   "metadata": {},
   "outputs": [],
   "source": [
    "import os\n",
    "import time\n",
    "import torch\n",
    "import argparse\n",
    "import numpy as np\n",
    "import json\n",
    "\n",
    "from utils.EEGDataset import EEGDataset\n",
    "from sklearn.metrics.pairwise import cosine_similarity\n",
    "from utils.DinoModel import DinoModel, dino_args\n",
    "from utils.Utilities import initlogger\n",
    "device = torch.device('cuda') if torch.cuda.is_available() else torch.device('cpu')\n",
    "print(device)"
   ]
  },
  {
   "cell_type": "code",
   "execution_count": null,
   "metadata": {},
   "outputs": [],
   "source": [
    "def initDinoModel(model_to_load, FLAGS, checkpoint_key=\"teacher\"):\n",
    "    dino_args.pretrained_weights = model_to_load\n",
    "    dino_args.output_dir = FLAGS.log_dir\n",
    "    dino_args.checkpoint_key = checkpoint_key\n",
    "    dino_args.use_cuda = torch.cuda.is_available()\n",
    "    dinov1_model = DinoModel(dino_args)\n",
    "    dinov1_model.eval()\n",
    "    return dinov1_model\n",
    "dinov1_model = initDinoModel(model_to_load=FLAGS.custom_model_weights,FLAGS=FLAGS,checkpoint_key=\"teacher\")"
   ]
  },
  {
   "cell_type": "code",
   "execution_count": null,
   "metadata": {},
   "outputs": [],
   "source": [
    "test_dataset = EEGDataset(subset=FLAGS.query_gallery,\n",
    "                              eeg_signals_path=EEG_DATASET_PATH,\n",
    "                              eeg_splits_path=EEG_DATASET_SPLIT,\n",
    "                              subject=FLAGS.query_subject,\n",
    "                              exclude_subjects=[],\n",
    "                              preprocessin_fn=dinov1_model.dinov1_transform)    \n",
    "dataset = EEGDataset(subset=FLAGS.search_gallery,\n",
    "                        eeg_signals_path=EEG_DATASET_PATH,\n",
    "                        eeg_splits_path=EEG_DATASET_SPLIT, \n",
    "                        subject=SUBJECT,\n",
    "                        exclude_subjects=[],\n",
    "                        preprocessin_fn=dinov1_model.dinov1_transform)\n",
    "\n",
    "dataset.transformEEGDataDino(\n",
    "                            model=dinov1_model,\n",
    "                            preprocessor=dinov1_model.dinov1_transform,\n",
    "                            pass_eeg=False,\n",
    "                            device=device,\n",
    "                            min_time=20,\n",
    "                            max_time=490,\n",
    "                            keep_features_flat=False)\n"
   ]
  }
 ],
 "metadata": {
  "kernelspec": {
   "display_name": "dinov2",
   "language": "python",
   "name": "python3"
  },
  "language_info": {
   "codemirror_mode": {
    "name": "ipython",
    "version": 3
   },
   "file_extension": ".py",
   "mimetype": "text/x-python",
   "name": "python",
   "nbconvert_exporter": "python",
   "pygments_lexer": "ipython3",
   "version": "3.9.18"
  }
 },
 "nbformat": 4,
 "nbformat_minor": 2
}
